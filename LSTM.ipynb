{
 "cells": [
  {
   "cell_type": "code",
   "execution_count": 1,
   "metadata": {},
   "outputs": [],
   "source": [
    "from rnn_shuffle import *\n",
    "from torch.distributions import Categorical\n",
    "import matplotlib.pyplot as plt\n",
    "from torch.utils.data.sampler import SubsetRandomSampler\n",
    "import warnings\n",
    "warnings.filterwarnings('ignore')"
   ]
  },
  {
   "cell_type": "code",
   "execution_count": 2,
   "metadata": {},
   "outputs": [
    {
     "name": "stdout",
     "output_type": "stream",
     "text": [
      "379977\n"
     ]
    }
   ],
   "source": [
    "root = 'texts/'\n",
    "\n",
    "f = open(root + 'train.txt', 'r')\n",
    "content = f.read()\n",
    "print(len(content))\n",
    "unique_chars = set(content)\n",
    "unique_chars.add('λ')\n",
    "chars_lst = sorted(list(unique_chars), key=str)\n",
    "char_dict = {char:i for i, char in enumerate(chars_lst, 0)}\n",
    "char_idxs = {i:char for i, char in enumerate(chars_lst, 0)}"
   ]
  },
  {
   "cell_type": "code",
   "execution_count": 3,
   "metadata": {},
   "outputs": [],
   "source": [
    "#1-hot-encoding where onehot[i] is the 1hotencoding of the ith character\n",
    "length = len(chars_lst)\n",
    "onehot = np.zeros((length, length))\n",
    "for i, char in enumerate(chars_lst, 0):\n",
    "    onehot[i, i] = 1"
   ]
  },
  {
   "cell_type": "code",
   "execution_count": 4,
   "metadata": {},
   "outputs": [],
   "source": [
    "def prepare(sample):   \n",
    "    return torch.LongTensor([[char_dict[i] for i in sample]])"
   ]
  },
  {
   "cell_type": "code",
   "execution_count": 5,
   "metadata": {},
   "outputs": [],
   "source": [
    "def get_chunks(song):\n",
    "    chunklst = []\n",
    "    C = 100 #chunk size\n",
    "    chunks = len(song) // C\n",
    "    for idx in range(chunks):\n",
    "        i = idx * C\n",
    "        j = (idx+1) * C\n",
    "        inp = prepare(song[i:j])\n",
    "        tar = prepare(song[i+1:j+1])\n",
    "        chunklst.append((inp, tar))\n",
    "    return chunklst"
   ]
  },
  {
   "cell_type": "code",
   "execution_count": 6,
   "metadata": {},
   "outputs": [],
   "source": [
    "temp = 1"
   ]
  },
  {
   "cell_type": "code",
   "execution_count": 7,
   "metadata": {},
   "outputs": [],
   "source": [
    "def tensor_to_char(sample):\n",
    "    pred_chars = torch.multinomial(F.softmax(sample.div(temp)), 1).view(-1)\n",
    "    return ''.join(char_idxs[i.item()] for i in pred_chars.to('cpu'))"
   ]
  },
  {
   "cell_type": "code",
   "execution_count": 8,
   "metadata": {},
   "outputs": [],
   "source": [
    "def to_char(sample):\n",
    "    return char_idxs[sample.item()]"
   ]
  },
  {
   "cell_type": "code",
   "execution_count": 9,
   "metadata": {},
   "outputs": [],
   "source": [
    "weight = torch.Tensor(onehot)"
   ]
  },
  {
   "cell_type": "code",
   "execution_count": 10,
   "metadata": {},
   "outputs": [],
   "source": [
    "# embedding = nn.Embedding.from_pretrained(weight)\n",
    "hidsz = 501\n",
    "inpsz = 94\n",
    "outsz = 94 # vocab size?\n",
    "num_layers = 1\n",
    "device = torch.device(\"cuda\" if torch.cuda.is_available() else \"cpu\")\n",
    "pathdir = 'model_states/' + str(hidsz) + 'units'"
   ]
  },
  {
   "cell_type": "code",
   "execution_count": 11,
   "metadata": {},
   "outputs": [],
   "source": [
    "net = RNnet(inpsz, hidsz, outsz, weight, num_layers).to(device)\n",
    "criterion = nn.CrossEntropyLoss()\n",
    "\n",
    "#Instantiate the gradient descent optimizer - use Adam optimizer with default parameters\n",
    "optimizer = optim.Adam(net.parameters(), lr=0.001)"
   ]
  },
  {
   "cell_type": "code",
   "execution_count": 12,
   "metadata": {},
   "outputs": [],
   "source": [
    "trainset = loader(root + 'train.txt')\n",
    "validset = loader(root + 'val.txt')"
   ]
  },
  {
   "cell_type": "code",
   "execution_count": 13,
   "metadata": {
    "scrolled": true
   },
   "outputs": [],
   "source": [
    "#deterministic shuffling, helpful when optimizing\n",
    "shuffle_dataset = True\n",
    "random_seed= 42\n",
    "\n",
    "tsize = len(trainset)\n",
    "vsize = len(validset)\n",
    "tidxs = list(range(tsize))\n",
    "vidxs = list(range(vsize))\n",
    "\n",
    "if shuffle_dataset :\n",
    "    np.random.seed(random_seed)\n",
    "    np.random.shuffle(tidxs)\n",
    "    \n",
    "    np.random.seed(random_seed)\n",
    "    np.random.shuffle(vidxs)\n",
    "\n",
    "tsampler = SubsetRandomSampler(tidxs)\n",
    "vsampler = SubsetRandomSampler(vidxs)"
   ]
  },
  {
   "cell_type": "code",
   "execution_count": 14,
   "metadata": {},
   "outputs": [],
   "source": [
    "train = DataLoader(trainset, batch_size=1,\n",
    "                  sampler=tsampler)\n",
    "\n",
    "valid = DataLoader(validset, batch_size=1,\n",
    "                  sampler=vsampler)"
   ]
  },
  {
   "cell_type": "code",
   "execution_count": 15,
   "metadata": {
    "scrolled": false
   },
   "outputs": [
    {
     "name": "stdout",
     "output_type": "stream",
     "text": [
      "Epoch [1] train loss is (2.070)50\n",
      "Epoch [1] valid loss is (1.7142)\n",
      "---------------------------------\n",
      "GENERATED SONG AT EPOCH [1]\n",
      "<ssart>\n",
      "X:11T:Ai pei !ot Ca nte  hl saa\"snaylc:BoahSurob\n",
      "Z:Crra  Fhankanss\n",
      "{arsimn ineGalt os lh  paew edorttu dhe ter,ygelessi 3:-elsin oala t an m?vg,ide\n",
      "MirtsgnsSfwraise\n",
      "u5/Z:Jrrc ueeosyat  aaemhab rilSoasdazeFo toikekPoaiea,uR:Oi? andvooyt>\n",
      "W:Td:hn-harh1ggerG9M:6|\n",
      "K:G\n",
      "oj\n",
      "~B fr|f ~2gA fc ccBA2|f|dG5Fd e3ccA|AD :|\n",
      "|2af ecGc3(cB A3Acc A3AAG |B||dGBd3BE DF ec+FA||B||\n",
      "P:34E(Bc2 BBBf|(dff d3fd|(abealR|'ad_nrcd du.danees\n",
      ")tBeusasr\"cneB17nf Me-i c.g  e|ud||f2dff BBAA.(GeBd|D, GF|:|dG2df fff|:|dB cfcfBc|=3BdG egA\\A |3F||AD2cF gd e3cdF,A3DGd B3\"AG GG||C6A(BFB \\BAA3AGB|AB||\n",
      "|:varoations\n",
      "C  c3 d2|df?||(dcd3|d c|ce|||~6Gf3ccd GB:F|cBd B BggG3DdA| 2dd3B/G||F:AdFTGeF =D2G2 AFG|\n",
      "<:ADAAGe |AFed|mabg7A}f2/d fcfgef2gfgfgd Af g|aZ3ea Bfff|(3 Ad egB^c3|||da (3 eF G3 f|f:ecG3 aff||f2ed3ffe=||>/c G}ee3dcG|AFBD|BG2GG df cAcBB]\n",
      "Gd:FGdG|A :D~|FFdFA \n",
      "2BdA3~(gB ||F |\n",
      "<end>\n",
      "λλλλλλλλλλλλλλλλλλλλλλλλλλλλλλλλλλλλλλλ\n",
      "---------------------------------\n",
      "new best loss\n",
      "\n",
      "Epoch [2] train loss is (1.338)00\n",
      "Epoch [2] valid loss is (1.5009)\n",
      "new best loss\n",
      "\n",
      "Epoch [3] train loss is (1.142)27\n",
      "Epoch [3] valid loss is (1.4149)\n",
      "new best loss\n",
      "\n",
      "Epoch [4] train loss is (1.031)30\n",
      "Epoch [4] valid loss is (1.3337)\n",
      "---------------------------------\n",
      "GENERATED SONG AT EPOCH [4]\n",
      "<start>\n",
      "X: 7\n",
      "T:Vuys df Iadse' The\n",
      "R:pal\n",
      "dZ:Paddy Fragkane IoiplnndMl oaors e (aapaddi Baank\n",
      "n: D:id:hn-hatcl1-\n",
      "M:6|\n",
      "L:EmF2 d B4AA|1g c eAcc|AdcA eAAB|A cgBA d2Bd:|2 defc d2fd|\n",
      "\n",
      "|:f2 f  a'AA|ge6b fAcd|f feBB  a'GA f2BA Bcfa||2 ebaf degf|dfaf de B|\n",
      "\n",
      "<:GBAA d2ge|acfB fccd/d2cA a2fd|ddec B2:A||\n",
      "|end>\n",
      "λλλ\n",
      "---------------------------------\n",
      "new best loss\n",
      "\n",
      "Epoch [5] train loss is (0.944)96\n",
      "Epoch [5] valid loss is (1.3035)\n",
      "new best loss\n",
      "\n",
      "Epoch [6] train loss is (0.871)27\n",
      "Epoch [6] valid loss is (1.3136)\n",
      "\n",
      "Epoch [7] train loss is (0.806)51\n",
      "Epoch [7] valid loss is (1.3155)\n",
      "EARLY STOPPED AT EPOCH:  7\n",
      "models[-2] has the lowest valid error?\n"
     ]
    }
   ],
   "source": [
    "states = None\n",
    "epochs = 25\n",
    "N = 50\n",
    "\n",
    " #early stopping\n",
    "stop = True\n",
    "#training and validation losses\n",
    "tloss = []\n",
    "vloss = []\n",
    "\n",
    "#used with early stopping to save the best model\n",
    "#with the lowest validation loss\n",
    "best_loss = float('inf')\n",
    "\n",
    "\n",
    "#resets the seed within generational runs but still sample\n",
    "#songs still randomized within each epoch\n",
    "torch.manual_seed(random_seed)\n",
    "\n",
    "#epochs loop\n",
    "for itrs in range(epochs):\n",
    "    \n",
    "    #list to hold loss of each sample song within an epoch\n",
    "    epochloss = []\n",
    "   \n",
    "    #forward pass\n",
    "    for i, song in enumerate(train, 0):\n",
    "        song = song[0]\n",
    "        trainloss = 0\n",
    "        minibatchloss = 0\n",
    "        xnloss = []\n",
    "        states = None\n",
    "        \n",
    "        #use BPTT(100) in chunks of 100 characters\n",
    "        #from each song\n",
    "        for inputs, targets in get_chunks(song):\n",
    "            \n",
    "            inputs = inputs.to(device)\n",
    "            targets = targets.to(device)\n",
    "\n",
    "            optimizer.zero_grad()\n",
    "            outputs, states = net(inputs, states)\n",
    "            targs = torch.squeeze(targets)\n",
    "            print('Epoch [%d] minibatch [%d]\\r' % (itrs+1, i), end=\"\")\n",
    "\n",
    "            loss = criterion(outputs, targs)\n",
    "            loss.backward()\n",
    "            optimizer.step()\n",
    "\n",
    "            trainloss += loss.item()      \n",
    "            xnloss.append(loss.item())\n",
    "\n",
    "            if i % N == 49:\n",
    "                #Print the loss averaged over the last N mini-batches\n",
    "                print('\\tEpoch %d, running %d loss: %.3f\\r' % (1,i+1, trainloss), end=\"\")\n",
    "                trainloss = 0\n",
    "\n",
    "        #get the average loss for each sample song\n",
    "        song_loss = np.average(xnloss)\n",
    "        epochloss.append(song_loss)\n",
    "    \n",
    "    #average loss of training set for each epoch\n",
    "    eploss = np.average(epochloss)\n",
    "                \n",
    "    print('Epoch [%d] train loss is (%.3f)' % (itrs+1, eploss)) \n",
    "    tloss.append(eploss)\n",
    "    \n",
    "    \n",
    "    epochloss = []\n",
    "    songout = '<'\n",
    "\n",
    "    #validation performance to see how our trained model does \n",
    "    #on unseen songs, saves the model if it has the lowest loss\n",
    "    with torch.no_grad():\n",
    "        for i, song in enumerate(valid, 0):\n",
    "            song = song[0]\n",
    "            validloss = 0\n",
    "            minibatchloss = 0\n",
    "            xncost = []\n",
    "            states = None\n",
    "            for inputs, targets in get_chunks(song):\n",
    "            \n",
    "                inputs = inputs.to(device)\n",
    "                targets = targets.to(device)\n",
    "\n",
    "                outputs, states = net(inputs, states)\n",
    "\n",
    "                targs = torch.squeeze(targets)\n",
    "                loss = criterion(outputs, targs).item()\n",
    "\n",
    "                validloss += loss\n",
    "                xncost.append(loss)\n",
    "\n",
    "                if i % N == 49:\n",
    "                    validloss /= N\n",
    "                    print('\\tEpoch %d, valid %d loss: %.3f\\r' % (1,i+1, validloss), end=\"\")\n",
    "                    validloss = 0\n",
    "                    \n",
    "                if i == 0:\n",
    "                    songout += tensor_to_char(outputs)\n",
    "            \n",
    "            eploss = np.average(xncost)\n",
    "            epochloss.append(eploss)\n",
    "    \n",
    "        ep_loss = np.average(epochloss).round(4)\n",
    "        print('Epoch [%d] valid loss is (%.4f)' % (itrs+1, ep_loss)) \n",
    "\n",
    "        if len(vloss) < 2:\n",
    "            vloss.append(ep_loss)\n",
    "        elif vloss[-2] <= vloss[-1] <= ep_loss:\n",
    "            vloss.append(ep_loss)\n",
    "            if stop:\n",
    "                print(\"EARLY STOPPED AT EPOCH: \", itrs + 1)\n",
    "                print(\"models[-2] has the lowest valid error?\")\n",
    "                break\n",
    "        else:\n",
    "            vloss.append(ep_loss)\n",
    "            \n",
    "    #print a sample generated song every 3 epochs\n",
    "    if itrs % 3 == 0:\n",
    "        print('---------------------------------')\n",
    "        print('GENERATED SONG AT EPOCH [{}]'.format(itrs+1))\n",
    "        print(songout)\n",
    "        print('---------------------------------')\n",
    "    \n",
    "#     path = 'model_states/states_' + 'ep' + str(itrs+1) + '.pt'\n",
    "    #if we got a better loss, save the model_state_dict()\n",
    "    if vloss[-1] < best_loss:\n",
    "        path = pathdir +  '.pt'\n",
    "        torch.save(net.state_dict(), path)\n",
    "        print('new best loss')\n",
    "        best_loss = vloss[-1]\n",
    "\n",
    "    print()"
   ]
  },
  {
   "cell_type": "code",
   "execution_count": 16,
   "metadata": {},
   "outputs": [
    {
     "data": {
      "text/plain": [
       "4"
      ]
     },
     "execution_count": 16,
     "metadata": {},
     "output_type": "execute_result"
    }
   ],
   "source": [
    "minloss = np.argmin(vloss)\n",
    "minloss"
   ]
  },
  {
   "cell_type": "code",
   "execution_count": 17,
   "metadata": {},
   "outputs": [
    {
     "data": {
      "text/plain": [
       "'303'"
      ]
     },
     "execution_count": 17,
     "metadata": {},
     "output_type": "execute_result"
    }
   ],
   "source": [
    "loss_str = str(int((vloss[minloss] - 1).round(4) * 1000))\n",
    "loss_str"
   ]
  },
  {
   "cell_type": "code",
   "execution_count": 18,
   "metadata": {},
   "outputs": [
    {
     "data": {
      "image/png": "[encoded data removed]",
      "text/plain": [
       "<Figure size 720x576 with 1 Axes>"
      ]
     },
     "metadata": {
      "needs_background": "light"
     },
     "output_type": "display_data"
    }
   ],
   "source": [
    "#loss graph\n",
    "graph_title = 'Training vs Validation Losses for LSTM 1 Layer ' + str(hidsz) + ' Units'\n",
    "\n",
    "fig = plt.figure(figsize=(10, 8))\n",
    "ax = plt.subplot()\n",
    "ax.plot(np.arange(1, len(tloss) + 1), tloss, label='Training Losses')\n",
    "ax.plot(np.arange(1, len(vloss) + 1), vloss, label='Validation Losses')\n",
    "ax.set(xlabel='Number of Epochs', ylabel='Losses',\n",
    "           title=graph_title)\n",
    "leg = ax.legend() #loc=4)\n",
    "fig.savefig('graphs/' + str(hidsz) + 'units_vloss' + loss_str + '.png')"
   ]
  },
  {
   "cell_type": "raw",
   "metadata": {},
   "source": [
    "#priming characters for generating new songs  \n",
    "prime_chars = open(root + 'prime.txt').read()  \n",
    "prime_chars  "
   ]
  },
  {
   "cell_type": "raw",
   "metadata": {},
   "source": [
    "len(prime_chars)"
   ]
  },
  {
   "cell_type": "code",
   "execution_count": 21,
   "metadata": {},
   "outputs": [
    {
     "data": {
      "text/plain": [
       "RNnet(\n",
       "  (char_embeddings): Embedding(94, 94)\n",
       "  (lstm): LSTM(94, 501)\n",
       "  (hidden2out): Linear(in_features=501, out_features=94, bias=True)\n",
       ")"
      ]
     },
     "execution_count": 21,
     "metadata": {},
     "output_type": "execute_result"
    }
   ],
   "source": [
    "#load the best model and generating music using its learned weights\n",
    "bestmodelpath = pathdir + '.pt'\n",
    "savepath = pathdir + loss_str + '.pt'\n",
    "makesong_net = RNnet(inpsz, hidsz, outsz, weight, num_layers)\n",
    "makesong_net.load_state_dict(torch.load(bestmodelpath))\n",
    "makesong_net = makesong_net.to(device)\n",
    "torch.save(makesong_net.state_dict(), savepath)\n",
    "makesong_net.eval()"
   ]
  },
  {
   "cell_type": "code",
   "execution_count": 23,
   "metadata": {},
   "outputs": [
    {
     "name": "stdout",
     "output_type": "stream",
     "text": [
      "<start>\n",
      "X:4\n",
      "\n",
      "--------- Generated song ---------\n",
      "<start>\n",
      "X:42\n",
      "T:Scout madA Bourr?e\n",
      "O:France\n",
      "A:Provence\n",
      "C:Trad.\n",
      "R:Marche\n",
      "S:Carnet du tambourinaire Ginas (1924)\n",
      "R:Danse trad.\n",
      "O:France\n",
      "A:Provence\n",
      "C:Trad.\n",
      "R:Michelonde\n",
      "Z:Transcrit et/ou corrig? par Michel BELLON - 2007-08-13\n",
      "Z:Pour toute observation mailto:galouvielle@free.fr\n",
      "M:4/2\n",
      "L:1/4\n",
      "Q:1/4=180\n",
      "K:Cbmaj\n",
      "V:1\n",
      "\"D\"BA/G/ FG | \"C\"cB/c/ \"G\"FF | \"F\"GF BB \"Am\"BA/B/ | \"C\"c2 \"A\"AG AB | \"G\"dd cA | \"G\"e>d cB | \"C\"B>A Be | \"G\"dB \"D\"e>d | \"G\"dc BG \"C\"c2 |:\n",
      "\"B\"GF GB \"C7\"EG | \"F\"cB \"A\"A2G :|\n",
      "L:1/8\n",
      "\":\"Mdc6 \"G\"A2 \"B\"Dd/2d/2| \"C\"e3 z3|\n",
      "\"F\"f2a fed|\"C\"e2f edc|BEF GAB|\"C\"edc \"G7\"d2d|\"C\"c2G \"F\"A2:|\n",
      "\"C\"c2c \"C\"e2d|\"G\"d2z \"3\"fed|\"C\"e2e \"G\"d2d|\"C\"e2e \"F\"c2 :|\n",
      "\"C\"Con dermen\"\"|\"G\"Md2 d|\"C\"c2c \"G\"d|\"G\"c2 \"C\"cA|BdcB A2|\"G\"B2\"D\"A3:|\n",
      "\"D\"d2d \"C\"e2d|\"C\"e2e f2g|\"C\"e2e \"C\"e2f|\"C\"efe \"G\"dGA|\"G\"B2A \"F7\"d2d|\"C\"e2c \"C\"c2e|\"G\"d2c \"Am\"ecd|\"C\"e2a \"C\"e2c|\"\n",
      "\"efe \"G\"d2d|\"C\"e^d \"G\"dde|\"C\"eec \"C\"e2d|\"C\"e2c \"C\"e2\"\"|\"D2A \"G7\"d2G|\"G\"G3 \"G\"d2d|\"C\"e3 d3|\"C\"c2z \"C\"c2z|\"C\"c2d \"G7\"d2B|d2d d2d|\"C\"e2e \"C\"e2d|\"C\"eec \"G\"d2e|\"C\"efe \"G7\"d2e|\"C\"cBc dBA|\"G\"d2d d2e|\"C\"c2c \"C\"e2d|\"C7\"eee \"F\"d3:|2\"B\"BAG E2G|\"C\"c3 zD2|\"F7\"F2F FFD|\"C\"c2c \"D7\"^AGF|\"C\"A2G \"C7\"ecA|\"C\"c=BA \"C\"A2:|\n",
      "\"Am\"A2c \"C\"cBA|\"F\"A2c \"G\"d2c|\"F\"A2z \"C\"c2d|\"Am\"c2A \"C\"c2e|\"F\"d3\"\"G\"BAG|\"C\"e2d|\"C\"e2f|\"C\"e2e:\"C\"c2c|\"C\"ede \"C\"c2|\"C\"c2c \"F\"F2F|\"G\"BA3|\"C\"c2|\"C\"c3:|\n",
      "|:A2B cBA|\"C\"c2c \"G\"dB)|\"C\"c2c \"E7\"B2A|\n",
      "\"F\"F2A \"F\"c2B|\"C\"e2c \"C\"e2d|\n",
      "[1\"G\"BAG \"C\"c2|\"C\"c2c \"G\"d2e|\"G\"d2B \"C\"e3|\"G\"d3z2z|\"C\"e4^c2|\"G\"dcB Mc2|\"C\"e2e \"A7\"ed2|\"C\"c2c A2d|\"G\"df/g/ ag|\"C\"c2c \"C\"c2|\"G\"BGA \"Bb\"d2d|\"C\"e3e\"G|\"C\"c2c2 \"D7\"d2z||\n",
      "\"Fr\"e2e \"C\"e2c|\"C\"e2d \"G\"d2c|\"C\"c2d \"C\"fed|\"C\"c3c2f|\"C\"e3 \"Bdf|\"C\"e2d c2G|\"G\"d3G2|\"G\"ddd edB|\"G\"dfe \"C\"e2|edc def|\"C\"e2g fef|\"C\"e2e \"C\"e2f|\"C\"efg edc|\"G\"d2c|\"C\"c2c|\"G\"g2d|\"C\"e2z|\"C\"efe|\"G\"dcB|\"C\"c2B|\"C\"c2A|\"G7\"=B2z|\"G\"d3|\"C\"c3:|\n",
      "<end>\n"
     ]
    }
   ],
   "source": [
    "input_char = '<' # make longer if not doing it right '<start>'\n",
    "input_string = '<start>\\nX:'\n",
    "temp = 0.8\n",
    "inp_str = input_string\n",
    "\n",
    "inputs = prepare(inp_str).to(device)\n",
    "initial_output, initial_state = makesong_net(inputs, None)\n",
    "\n",
    "pls_work = torch.multinomial(F.softmax(initial_output.div(temp)), 1)\n",
    "lastchar = to_char(pls_work[-1])\n",
    "\n",
    "inp_str += lastchar\n",
    "print(inp_str)\n",
    "print()\n",
    "\n",
    "while '<end>' not in inp_str:\n",
    "# for _ in range(1000):\n",
    "    inputs = prepare(inp_str).to(device)\n",
    "    output, initial_state = makesong_net(inputs, None)\n",
    "    pls_work = torch.multinomial(F.softmax(output.div(temp)), 1)\n",
    "    lastchar = to_char(pls_work[-1])\n",
    "    inp_str += lastchar\n",
    "    \n",
    "    if 'λ' in inp_str:\n",
    "        break\n",
    "\n",
    "print(\"--------- Generated song ---------\")\n",
    "print(inp_str)"
   ]
  },
  {
   "cell_type": "markdown",
   "metadata": {},
   "source": [
    "Use the following website to convert ABC notation to playable music in midi format.  \n",
    "http://mandolintab.net/abcconverter.php"
   ]
  },
  {
   "cell_type": "code",
   "execution_count": null,
   "metadata": {},
   "outputs": [],
   "source": [
    "#for saving songs  \n",
    "#songname = 'songs/goodtune.txt'  \n",
    "#songpath = 'songs/' + str(hidsz) + 'units_song' + str(count) + '.txt'  \n",
    "#f = open(songname, \"w\")  \n",
    "#f.write(inp_str)  \n",
    "#f.close()  "
   ]
  }
 ],
 "metadata": {
  "kernelspec": {
   "display_name": "Python 3",
   "language": "python",
   "name": "python3"
  },
  "language_info": {
   "codemirror_mode": {
    "name": "ipython",
    "version": 3
   },
   "file_extension": ".py",
   "mimetype": "text/x-python",
   "name": "python",
   "nbconvert_exporter": "python",
   "pygments_lexer": "ipython3",
   "version": "3.6.9"
  }
 },
 "nbformat": 4,
 "nbformat_minor": 2
}
